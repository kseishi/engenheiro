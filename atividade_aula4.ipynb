{
 "cells": [
  {
   "cell_type": "code",
   "execution_count": null,
   "id": "3d1f17c8-4e44-4273-bbdd-a5548a16d681",
   "metadata": {},
   "outputs": [],
   "source": [
    "#Criar algoritmo que faça a fatoração do número 1024"
   ]
  },
  {
   "cell_type": "code",
   "execution_count": 2,
   "id": "bd9a8781-27b2-4c02-8161-c86134bdee53",
   "metadata": {
    "tags": []
   },
   "outputs": [
    {
     "name": "stdout",
     "output_type": "stream",
     "text": [
      "A fatoração de 1024 é: 2\n",
      "2\n",
      "2\n",
      "2\n",
      "2\n",
      "2\n",
      "2\n",
      "2\n",
      "2\n",
      "2\n"
     ]
    }
   ],
   "source": [
    "def fatoracao(n):\n",
    "    fatores = []\n",
    "    divisor = 2\n",
    "    while n > 1:\n",
    "        while n % divisor == 0:\n",
    "            fatores.append(divisor)\n",
    "            n //= divisor\n",
    "        divisor += 1\n",
    "    return fatores\n",
    "\n",
    "numero = 1024\n",
    "fatores_primos = fatoracao(numero)\n",
    "\n",
    "print(f\"A fatoração de {numero} é:\", end=\" \")\n",
    "for fator in fatores_primos:\n",
    "    print(fator, end=\" * \" if fator != fatores_primos[-1] else \"\\n\")\n"
   ]
  },
  {
   "cell_type": "code",
   "execution_count": null,
   "id": "67b8b95b-2c66-4c14-92a4-6b6fd0d5afbe",
   "metadata": {},
   "outputs": [],
   "source": [
    "# Criar algoritmo que liste toda a sequência de Fibonacci até o número 100"
   ]
  },
  {
   "cell_type": "code",
   "execution_count": 5,
   "id": "fa637162-c479-4923-a353-44e69375d76a",
   "metadata": {
    "tags": []
   },
   "outputs": [
    {
     "name": "stdout",
     "output_type": "stream",
     "text": [
      "1, 1, 2, 3, 5, 8, 13, 21, 34, 55, 89, "
     ]
    }
   ],
   "source": [
    "def fibonacci(n):\n",
    "    a, b = 1, 1\n",
    "    while a <= n:\n",
    "        print(a, end=\", \")\n",
    "        a, b = b, a + b\n",
    "\n",
    "# Chame a função com o valor 100 para obter a sequência até 100\n",
    "fibonacci(100)\n"
   ]
  },
  {
   "cell_type": "code",
   "execution_count": null,
   "id": "4ef06589-0402-45c5-b038-ce5bc46441f2",
   "metadata": {},
   "outputs": [],
   "source": [
    "# Criar uma lista de frutas (bananas, maçãs, peras, uvas, laranjas) e fazer um algoritmo para consultar se uma fruta existe na lista. Caso não exista, adicionar a nova fruta. O programa só deve encerrar a brincadeira quando o usuário informar o número 9999999"
   ]
  },
  {
   "cell_type": "code",
   "execution_count": 6,
   "id": "9d4e570f-7b3e-437e-801d-fd93f7da7107",
   "metadata": {
    "tags": []
   },
   "outputs": [
    {
     "name": "stdin",
     "output_type": "stream",
     "text": [
      "Digite uma fruta ou 999 para sair:  banana\n"
     ]
    },
    {
     "name": "stdout",
     "output_type": "stream",
     "text": [
      "banana adicionada à lista.\n"
     ]
    },
    {
     "name": "stdin",
     "output_type": "stream",
     "text": [
      "Digite uma fruta ou 999 para sair:  pera\n"
     ]
    },
    {
     "name": "stdout",
     "output_type": "stream",
     "text": [
      "pera adicionada à lista.\n"
     ]
    },
    {
     "name": "stdin",
     "output_type": "stream",
     "text": [
      "Digite uma fruta ou 999 para sair:  uva\n"
     ]
    },
    {
     "name": "stdout",
     "output_type": "stream",
     "text": [
      "uva adicionada à lista.\n"
     ]
    },
    {
     "name": "stdin",
     "output_type": "stream",
     "text": [
      "Digite uma fruta ou 999 para sair:  pessego\n"
     ]
    },
    {
     "name": "stdout",
     "output_type": "stream",
     "text": [
      "pessego adicionada à lista.\n"
     ]
    },
    {
     "name": "stdin",
     "output_type": "stream",
     "text": [
      "Digite uma fruta ou 999 para sair:  jaca\n"
     ]
    },
    {
     "name": "stdout",
     "output_type": "stream",
     "text": [
      "jaca adicionada à lista.\n"
     ]
    },
    {
     "name": "stdin",
     "output_type": "stream",
     "text": [
      "Digite uma fruta ou 999 para sair:  999\n"
     ]
    },
    {
     "name": "stdout",
     "output_type": "stream",
     "text": [
      "Encerrando o programa. Obrigado por brincar!\n"
     ]
    }
   ],
   "source": [
    "def main():\n",
    "    # Inicialize a lista de frutas\n",
    "    frutas = [\"bananas\", \"maçãs\", \"peras\", \"uvas\", \"laranjas\"]\n",
    "\n",
    "    while True:\n",
    "        # Solicite ao usuário uma fruta ou o número 999 para encerrar\n",
    "        entrada = input(\"Digite uma fruta ou 999 para sair: \")\n",
    "\n",
    "        if entrada == \"999\":\n",
    "            print(\"Encerrando o programa. Obrigado por brincar!\")\n",
    "            break\n",
    "        elif entrada in frutas:\n",
    "            print(f\"{entrada} já existe na lista.\")\n",
    "        else:\n",
    "            frutas.append(entrada)\n",
    "            print(f\"{entrada} adicionada à lista.\")\n",
    "\n",
    "if __name__ == \"__main__\":\n",
    "    main()\n"
   ]
  }
 ],
 "metadata": {
  "kernelspec": {
   "display_name": "Python 3 (ipykernel)",
   "language": "python",
   "name": "python3"
  },
  "language_info": {
   "codemirror_mode": {
    "name": "ipython",
    "version": 3
   },
   "file_extension": ".py",
   "mimetype": "text/x-python",
   "name": "python",
   "nbconvert_exporter": "python",
   "pygments_lexer": "ipython3",
   "version": "3.10.9"
  }
 },
 "nbformat": 4,
 "nbformat_minor": 5
}
